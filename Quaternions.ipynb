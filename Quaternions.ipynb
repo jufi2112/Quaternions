{
 "cells": [
  {
   "cell_type": "code",
   "execution_count": 1,
   "id": "ff636fc6-0833-44d1-b64f-b9436849bf16",
   "metadata": {},
   "outputs": [],
   "source": [
    "import numpy as np"
   ]
  },
  {
   "cell_type": "code",
   "execution_count": 2,
   "id": "71c456b5-fbd9-4848-a6cd-80e6cde2f1dc",
   "metadata": {},
   "outputs": [
    {
     "data": {
      "text/plain": [
       "array([0.89735654, 0.34910675, 0.58799132, 0.15684495])"
      ]
     },
     "execution_count": 2,
     "metadata": {},
     "output_type": "execute_result"
    }
   ],
   "source": [
    "np.random.rand(4)"
   ]
  },
  {
   "cell_type": "code",
   "execution_count": 407,
   "id": "9eaf77f5-7f91-4fe5-a5d8-622c7eca0f9d",
   "metadata": {},
   "outputs": [],
   "source": [
    "%history -g -f test.py"
   ]
  },
  {
   "cell_type": "code",
   "execution_count": 402,
   "id": "92da5f99-64c1-4820-a5ce-5763baf0c777",
   "metadata": {},
   "outputs": [
    {
     "data": {
      "text/plain": [
       "array([3.74165739, 3.74165739])"
      ]
     },
     "execution_count": 402,
     "metadata": {},
     "output_type": "execute_result"
    }
   ],
   "source": [
    "np.linalg.norm(np.asarray([[1,2,3], [1,2,3]]), axis=1)"
   ]
  },
  {
   "cell_type": "code",
   "execution_count": 404,
   "id": "d6976a1a-0ca8-4884-b759-a4a00415a96f",
   "metadata": {},
   "outputs": [
    {
     "data": {
      "text/plain": [
       "array([[0.07142857, 0.14285714, 0.21428571],\n",
       "       [0.07142857, 0.14285714, 0.21428571]])"
      ]
     },
     "execution_count": 404,
     "metadata": {},
     "output_type": "execute_result"
    }
   ],
   "source": [
    "np.asarray([[1,2,3], [1,2,3]]) / (np.linalg.norm(np.asarray([[1,2,3], [1,2,3]]), axis=1)**2).reshape(-1, 1)"
   ]
  },
  {
   "cell_type": "code",
   "execution_count": 391,
   "id": "d46d68de-ed32-47cc-a2bc-782ca5b8f6ee",
   "metadata": {},
   "outputs": [
    {
     "ename": "ValueError",
     "evalue": "operands could not be broadcast together with shapes (3,) (2,) ",
     "output_type": "error",
     "traceback": [
      "\u001b[1;31m---------------------------------------------------------------------------\u001b[0m",
      "\u001b[1;31mValueError\u001b[0m                                Traceback (most recent call last)",
      "Cell \u001b[1;32mIn[391], line 1\u001b[0m\n\u001b[1;32m----> 1\u001b[0m \u001b[43mnp\u001b[49m\u001b[38;5;241;43m.\u001b[39;49m\u001b[43masarray\u001b[49m\u001b[43m(\u001b[49m\u001b[43m[\u001b[49m\u001b[38;5;241;43m1\u001b[39;49m\u001b[43m,\u001b[49m\u001b[38;5;241;43m2\u001b[39;49m\u001b[43m,\u001b[49m\u001b[38;5;241;43m3\u001b[39;49m\u001b[43m]\u001b[49m\u001b[43m)\u001b[49m\u001b[43m \u001b[49m\u001b[38;5;241;43m*\u001b[39;49m\u001b[43m \u001b[49m\u001b[43mnp\u001b[49m\u001b[38;5;241;43m.\u001b[39;49m\u001b[43masarray\u001b[49m\u001b[43m(\u001b[49m\u001b[43m[\u001b[49m\u001b[38;5;241;43m2\u001b[39;49m\u001b[43m,\u001b[49m\u001b[38;5;241;43m4\u001b[39;49m\u001b[43m]\u001b[49m\u001b[43m)\u001b[49m\n",
      "\u001b[1;31mValueError\u001b[0m: operands could not be broadcast together with shapes (3,) (2,) "
     ]
    }
   ],
   "source": [
    "np.asarray([1,2,3]) * np.asarray([2,4])"
   ]
  },
  {
   "cell_type": "code",
   "execution_count": 5,
   "id": "be42b242-401e-41ea-aef2-05b418519331",
   "metadata": {},
   "outputs": [],
   "source": [
    "a = np.asarray([[0.72346203, 0.02067247, 0.10439842, 0.9092398, ],\n",
    " [0.1461191,  0.95249485, 0.43513853, 0.29202742],\n",
    " [0.61947064, 0.16805656, 0.72458668, 0.00401046]])"
   ]
  },
  {
   "cell_type": "code",
   "execution_count": 7,
   "id": "4aea03b2-ad74-458e-8c1a-565dd445c53a",
   "metadata": {},
   "outputs": [
    {
     "data": {
      "text/plain": [
       "array([[0.72346203, 0.02067247, 0.10439842, 0.9092398 ],\n",
       "       [0.1461191 , 0.95249485, 0.43513853, 0.29202742],\n",
       "       [0.61947064, 0.16805656, 0.72458668, 0.00401046]])"
      ]
     },
     "execution_count": 7,
     "metadata": {},
     "output_type": "execute_result"
    }
   ],
   "source": [
    "a"
   ]
  },
  {
   "cell_type": "code",
   "execution_count": 9,
   "id": "fe44176b-74e0-461e-ba40-246879881e72",
   "metadata": {},
   "outputs": [
    {
     "data": {
      "text/plain": [
       "array([[-0.72346203, -0.02067247, -0.10439842, -0.9092398 ],\n",
       "       [-0.1461191 , -0.95249485, -0.43513853, -0.29202742],\n",
       "       [-0.61947064, -0.16805656, -0.72458668, -0.00401046]])"
      ]
     },
     "execution_count": 9,
     "metadata": {},
     "output_type": "execute_result"
    }
   ],
   "source": [
    "a * -1"
   ]
  },
  {
   "cell_type": "code",
   "execution_count": 373,
   "id": "226f3aaa-89a0-47f4-b7e8-765473aa92a3",
   "metadata": {},
   "outputs": [],
   "source": [
    "class Test:\n",
    "    def __init__(self):\n",
    "        print(\"Called construtor\")\n",
    "        self.norm = self._instance_norm\n",
    "    def _instance_norm(self):\n",
    "        print(\"Called class method norm\")\n",
    "    @staticmethod\n",
    "    def norm():\n",
    "        print(\"Called static Test::norm\")"
   ]
  },
  {
   "cell_type": "code",
   "execution_count": 374,
   "id": "b103e326-8c21-4741-9119-c339d12cb706",
   "metadata": {},
   "outputs": [
    {
     "name": "stdout",
     "output_type": "stream",
     "text": [
      "Called construtor\n",
      "Called class method norm\n",
      "Called static Test::norm\n"
     ]
    }
   ],
   "source": [
    "c = Test()\n",
    "c.norm()\n",
    "Test.norm()"
   ]
  },
  {
   "cell_type": "code",
   "execution_count": 382,
   "id": "6b1ec165-dedd-41a4-b5eb-3810d9d789c1",
   "metadata": {},
   "outputs": [],
   "source": [
    "a = Quat(0, 1, 2, 3)\n",
    "b = Quat(1,1,0,0)"
   ]
  },
  {
   "cell_type": "code",
   "execution_count": 388,
   "id": "d2a87ec2-c7b8-4633-aa43-cbf5c887a5e1",
   "metadata": {},
   "outputs": [
    {
     "data": {
      "text/plain": [
       "1"
      ]
     },
     "execution_count": 388,
     "metadata": {},
     "output_type": "execute_result"
    }
   ],
   "source": [
    "np.asarray([1]).shape[0]"
   ]
  },
  {
   "cell_type": "code",
   "execution_count": 384,
   "id": "6a064b9a-4df6-4f28-ad49-ed34aaa54117",
   "metadata": {},
   "outputs": [
    {
     "data": {
      "text/plain": [
       "3.7416573867739413"
      ]
     },
     "execution_count": 384,
     "metadata": {},
     "output_type": "execute_result"
    }
   ],
   "source": [
    "np.linalg.norm(a.quat_)"
   ]
  },
  {
   "cell_type": "code",
   "execution_count": 358,
   "id": "ec7cee49-926c-4985-8408-b78d331e1660",
   "metadata": {},
   "outputs": [
    {
     "data": {
      "text/plain": [
       "Quat(0.0, 1.0, 2.0, 3.0)"
      ]
     },
     "execution_count": 358,
     "metadata": {},
     "output_type": "execute_result"
    }
   ],
   "source": [
    "a"
   ]
  },
  {
   "cell_type": "code",
   "execution_count": 359,
   "id": "58963d4b-093d-466f-a258-eb88facf8684",
   "metadata": {},
   "outputs": [
    {
     "name": "stdout",
     "output_type": "stream",
     "text": [
      "Quaternion 0.0 + 1.0i + 2.0j + 3.0k\n"
     ]
    }
   ],
   "source": [
    "print(a)"
   ]
  },
  {
   "cell_type": "code",
   "execution_count": 360,
   "id": "244fb26f-a43a-4a00-bcc2-1d4361500b31",
   "metadata": {},
   "outputs": [
    {
     "name": "stdout",
     "output_type": "stream",
     "text": [
      "Quaternion -1.0 + 1.0i + 5.0j + 1.0k\n"
     ]
    }
   ],
   "source": [
    "print(a * b)"
   ]
  },
  {
   "cell_type": "code",
   "execution_count": 361,
   "id": "246e44ed-85ee-4fe3-88ef-9923a0910c81",
   "metadata": {},
   "outputs": [
    {
     "data": {
      "text/plain": [
       "Quat(-1.0, 1.0, 5.0, 1.0)"
      ]
     },
     "execution_count": 361,
     "metadata": {},
     "output_type": "execute_result"
    }
   ],
   "source": [
    "a * b"
   ]
  },
  {
   "cell_type": "code",
   "execution_count": 365,
   "id": "d573ef13-ec89-4bee-93c9-363c7f379812",
   "metadata": {},
   "outputs": [
    {
     "data": {
      "text/plain": [
       "Quat(-1.0, 2.0, 2.0, 0.0)"
      ]
     },
     "execution_count": 365,
     "metadata": {},
     "output_type": "execute_result"
    }
   ],
   "source": [
    "Quat.hamilton_product(q, q)[0]"
   ]
  },
  {
   "cell_type": "code",
   "execution_count": 279,
   "id": "c42d1d63-5773-49ed-91ad-f728fffa80e8",
   "metadata": {},
   "outputs": [
    {
     "name": "stdout",
     "output_type": "stream",
     "text": [
      "[[1 1 1 0]\n",
      " [1 0 0 0]\n",
      " [1 0 1 1]]\n"
     ]
    }
   ],
   "source": [
    "q = np.asarray([[1,1,1,0], [1,0,0,0], [1,0,1,1]])\n",
    "print(q)"
   ]
  },
  {
   "cell_type": "code",
   "execution_count": 280,
   "id": "939f525d-10e8-402c-b6bb-74dc44239a3e",
   "metadata": {},
   "outputs": [],
   "source": [
    "def quat_norm(q: np.ndarray) -> float:\n",
    "    single = False\n",
    "    if q.ndim == 1:\n",
    "        single = True\n",
    "        q = q.reshape(1, -1)\n",
    "    norm = np.linalg.norm(q, axis=1).reshape(-1, 1)\n",
    "    if single:\n",
    "        return norm[0]\n",
    "    return norm"
   ]
  },
  {
   "cell_type": "code",
   "execution_count": 281,
   "id": "e1700fc7-941d-49ed-b5db-6304de1bb0f8",
   "metadata": {},
   "outputs": [
    {
     "data": {
      "text/plain": [
       "array([[1.73205081],\n",
       "       [1.        ],\n",
       "       [1.73205081]])"
      ]
     },
     "execution_count": 281,
     "metadata": {},
     "output_type": "execute_result"
    }
   ],
   "source": [
    "quat_norm(q)"
   ]
  },
  {
   "cell_type": "code",
   "execution_count": 282,
   "id": "c6c4da2d-a0ea-4d88-b686-d75651fc6bf5",
   "metadata": {},
   "outputs": [],
   "source": [
    "def normalize_quat(q: np.ndarray) -> np.ndarray:\n",
    "    \"\"\"\n",
    "        Normalizes (possibly batched) quaternion q\n",
    "    \"\"\"\n",
    "    single_dim = False\n",
    "    if q.ndim == 1:\n",
    "        single_dim = True\n",
    "        q = q.reshape(1, -1)\n",
    "    q_norm = q / quat_norm(q)\n",
    "    if single_dim:\n",
    "        return q_norm[0]\n",
    "    else:\n",
    "        return q_norm"
   ]
  },
  {
   "cell_type": "code",
   "execution_count": 283,
   "id": "68ad335b-3022-4142-b33c-1f5941fae3c9",
   "metadata": {},
   "outputs": [
    {
     "data": {
      "text/plain": [
       "array([[0.57735027, 0.57735027, 0.57735027, 0.        ],\n",
       "       [1.        , 0.        , 0.        , 0.        ],\n",
       "       [0.57735027, 0.        , 0.57735027, 0.57735027]])"
      ]
     },
     "execution_count": 283,
     "metadata": {},
     "output_type": "execute_result"
    }
   ],
   "source": [
    "normalize_quat(q)"
   ]
  },
  {
   "cell_type": "code",
   "execution_count": 284,
   "id": "c33c5710-9b51-4e73-a62a-2f619424e244",
   "metadata": {},
   "outputs": [],
   "source": [
    "def conjugate_quat(q: np.ndarray) -> np.ndarray:\n",
    "    \"\"\"\n",
    "        Returns the conjugate of q=(a+bi+cj+dk) as q*=(a-bi-cj-dk)\n",
    "    \"\"\"\n",
    "    single = False\n",
    "    if q.ndim == 1:\n",
    "        single = True\n",
    "        q = q.reshape(1, -1)\n",
    "    conjugate = np.concatenate((q[:, 0].reshape(-1, 1),\n",
    "                                -q[:, 1].reshape(-1, 1),\n",
    "                                -q[:, 2].reshape(-1, 1),\n",
    "                                -q[:, 3].reshape(-1, 1)\n",
    "                               ), axis=1, dtype=np.float64)\n",
    "    if single:\n",
    "        return conjugate[0]\n",
    "    return conjugate"
   ]
  },
  {
   "cell_type": "code",
   "execution_count": 285,
   "id": "287af9ee-2c87-4a22-b985-bf3ac66d45f4",
   "metadata": {},
   "outputs": [
    {
     "data": {
      "text/plain": [
       "array([[ 1., -1., -1.,  0.],\n",
       "       [ 1.,  0.,  0.,  0.],\n",
       "       [ 1.,  0., -1., -1.]])"
      ]
     },
     "execution_count": 285,
     "metadata": {},
     "output_type": "execute_result"
    }
   ],
   "source": [
    "conjugate_quat(q)"
   ]
  },
  {
   "cell_type": "code",
   "execution_count": 286,
   "id": "8ff35cc6-aacb-46c4-8b69-212f8623a634",
   "metadata": {},
   "outputs": [],
   "source": [
    "def hamilton_product(q: np.ndarray, p: np.ndarray) -> np.ndarray:\n",
    "    \"\"\"\n",
    "        Calculates the Hamilton product of (possibly batched) quaternions q and p\n",
    "    \"\"\"\n",
    "    q_single = False\n",
    "    p_single = False\n",
    "    if q.ndim == 1:\n",
    "        q_single = True\n",
    "        q = q.reshape(1, -1)\n",
    "    if p.ndim == 1:\n",
    "        p_single = True\n",
    "        p = p.reshape(1, -1)\n",
    "    if q.shape[0] == 1 and p.shape[0] > 1:\n",
    "        q = np.tile(q, (p.shape[0], 1))\n",
    "    if p.shape[0] == 1 and q.shape[0] > 1:\n",
    "        p = np.tile(p, (q.shape[0], 1))\n",
    "    assert q.shape[0] == p.shape[0], f\"Both quaternions have to have the same batch size, got {q.shape[0]} and {p.shape[0]}\"\n",
    "    assert q.shape[1] == p.shape[1] == 4, f\"Both quaternions have to have 4 elements, got {q.shape[1]} and {p.shape[1]}\"\n",
    "    qa = q[:, 0].reshape(-1, 1)\n",
    "    qb = q[:, 1].reshape(-1, 1)\n",
    "    qc = q[:, 2].reshape(-1, 1)\n",
    "    qd = q[:, 3].reshape(-1, 1)\n",
    "    pa = p[:, 0].reshape(-1, 1)\n",
    "    pb = p[:, 1].reshape(-1, 1)\n",
    "    pc = p[:, 2].reshape(-1, 1)\n",
    "    pd = p[:, 3].reshape(-1, 1)\n",
    "    res = np.concatenate(\n",
    "        [\n",
    "            qa*pa - qb*pb - qc*pc - qd*pd,\n",
    "            qa*pb + qb*pa + qc*pd - qd*pc,\n",
    "            qa*pc - qb*pd + qc*pa + qd*pb,\n",
    "            qa*pd + qb*pc - qc*pb + qd*pa\n",
    "        ], axis=1, dtype=np.float64)\n",
    "    if q_single and p_single:\n",
    "        return res[0]\n",
    "    return res"
   ]
  },
  {
   "cell_type": "code",
   "execution_count": 287,
   "id": "0aa8dc77-99e5-4a01-b6d2-ed88ebeb7612",
   "metadata": {},
   "outputs": [
    {
     "data": {
      "text/plain": [
       "array([[-1.,  2.,  2.,  0.],\n",
       "       [ 1.,  1.,  1.,  0.],\n",
       "       [ 0.,  2.,  1.,  2.]])"
      ]
     },
     "execution_count": 287,
     "metadata": {},
     "output_type": "execute_result"
    }
   ],
   "source": [
    "hamilton_product(q[0], q)"
   ]
  },
  {
   "cell_type": "code",
   "execution_count": 276,
   "id": "c5f805cf-fc9b-482c-b37d-e8ce54a648ef",
   "metadata": {},
   "outputs": [],
   "source": [
    "def rot_quat_from_rot_vec(rot_vec: np.ndarray) -> np.ndarray:\n",
    "    \"\"\"\n",
    "        Calculates a rotation quaternion (i.e. versor) from the given rotation vector.\n",
    "        The rotation angle theta [rad] is determined from the length of the rotation\n",
    "        vector, while the rotation axis (x,y,z) is given by the normed rotation vector.\n",
    "        Uses quaternion polar decomposition (via Taylor expansion of the exponential\n",
    "        function) to determine rotation quaternion:\n",
    "        q = exp(theta * rot_axis) [where rot_axis is vector quaternion representing the\n",
    "                                   rotation axis]\n",
    "        q = (cos(theta/2) + x * sin(theta/2)i + y * sin(theta/2)j + z * sin(theta/2)k)\n",
    "    \"\"\"\n",
    "    single = False\n",
    "    if rot_vec.ndim == 1:\n",
    "        single = True\n",
    "        rot_vec = rot_vec.reshape(1, -1)\n",
    "    angles = np.linalg.norm(rot_vec, axis=1).reshape(-1, 1)\n",
    "    euler_axes = rot_vec / angles\n",
    "    angles = angles.reshape(-1, 1)\n",
    "    q = np.concatenate((np.cos(angles/2),\n",
    "                        euler_axes * np.sin(angles/2)\n",
    "                       ), axis=1, dtype=np.float64)\n",
    "    if single:\n",
    "        return q[0]\n",
    "    return q\n",
    "\n",
    "def rot_quat_from_axis_and_angle(axis: np.ndarray, angle: np.ndarray) -> np.ndarray:\n",
    "    \"\"\"\n",
    "        Calculates a rotation quaternion (i.e. versor) from given rotation axis and\n",
    "        rotation angle. See `rot_quat_from_rot_vec` for details\n",
    "    \"\"\"\n",
    "    axis_single = False\n",
    "    angle_single = False\n",
    "    if axis.ndim == 1:\n",
    "        axis_single = True\n",
    "        axis = axis.reshape(1, -1)\n",
    "    if angle.ndim == 1:\n",
    "        angle_single = True\n",
    "        angle = angle.reshape(1, -1)\n",
    "    if axis.shape[0] == 1 and angle.shape[0] > 1:\n",
    "        axis = np.tile(axis, (angle.shape[0], 1))\n",
    "    if angle.shape[0] == 1 and axis.shape[0] > 1:\n",
    "        angle = np.tile(angle, (axis.shape[0], 1))\n",
    "    assert axis.shape[0] == angle.shape[0], f\"Axes and angles have to have the same batch size, got {axis.shape[0]} and {angle.shape[0]}\"\n",
    "    # norm axes in case\n",
    "    axis = axis / np.linalg.norm(axis, axis=1).reshape(-1 ,1)\n",
    "    q = np.concatenate((np.cos(angle/2),\n",
    "                        axis * np.sin(angle/2)\n",
    "                       ), axis=1, dtype=np.float64)\n",
    "    if axis_single and angle_single:\n",
    "        return q[0]\n",
    "    return q\n",
    "\n",
    "def point_as_quat(p: np.ndarray) -> np.ndarray:\n",
    "    \"\"\"\n",
    "        Represents point p=(x,y,z) as a vector quaternion\n",
    "        p' = 0 + xi + yj + zk\n",
    "    \"\"\"\n",
    "    single = False\n",
    "    if p.ndim == 1:\n",
    "        single = True\n",
    "        p = p.reshape(1, -1)\n",
    "    q = np.concatenate((np.zeros((p.shape[0], 1), dtype=np.float64),\n",
    "                        p[:, 0].reshape(-1, 1),\n",
    "                        p[:, 1].reshape(-1, 1),\n",
    "                        p[:, 2].reshape(-1, 1)\n",
    "                       ), axis=1, dtype=np.float64)\n",
    "    if single:\n",
    "        return q[0]\n",
    "    return q"
   ]
  },
  {
   "cell_type": "code",
   "execution_count": 277,
   "id": "bf7b664d-ee14-462a-9d6a-d6a836d68c76",
   "metadata": {},
   "outputs": [
    {
     "name": "stdout",
     "output_type": "stream",
     "text": [
      "[-0.70710678  0.          0.70710678  0.        ]\n",
      "[-0.70710678  0.          0.70710678  0.        ]\n"
     ]
    },
    {
     "data": {
      "text/plain": [
       "array([[0., 1., 2., 3.],\n",
       "       [0., 2., 3., 4.]])"
      ]
     },
     "execution_count": 277,
     "metadata": {},
     "output_type": "execute_result"
    }
   ],
   "source": [
    "rot_vec = np.asarray([0,1,0]) * (3/2)*np.pi\n",
    "print(rot_quat_from_rot_vec(rot_vec))\n",
    "# should be (-1/sqrt(2) + 0i + 1/sqrt(2)j + 0k)\n",
    "print(rot_quat_from_axis_and_angle(np.asarray([0,1,0]), np.asarray([(3/2)*np.pi])))\n",
    "point_as_quat(np.asarray([[1,2,3], [2,3,4]]))"
   ]
  },
  {
   "cell_type": "code",
   "execution_count": 304,
   "id": "a3744211-8917-4668-952d-7b5ed3fdd108",
   "metadata": {},
   "outputs": [],
   "source": [
    "def conjugate_p_by_q(p: np.ndarray, q: np.ndarray) -> np.ndarray:\n",
    "    \"\"\"\n",
    "        Calculates conjugation q * p * q^-1 of (possibly batched) quaternions p and q\n",
    "        If p is a vector quaternion representing a position P, and q is a unit quaternion\n",
    "        representing a rotation R, the result is a vector quaternion representing the new\n",
    "        position when point P is rotated by R\n",
    "    \"\"\"\n",
    "    q_inv = conjugate_quat(q) / quat_norm(q)**2\n",
    "    qp = hamilton_product(q, p)\n",
    "    qpq_inv = hamilton_product(qp, q_inv)\n",
    "    return qpq_inv\n",
    "\n",
    "def rotate_point_using_quat(p: np.ndarray, rot: np.ndarray, rot_angle: np.ndarray = None) -> np.ndarray:\n",
    "    \"\"\"\n",
    "        Rotates 3D point p by rotation rot. If rot_angle is None, assumes rot to be\n",
    "        either a rotation vector (3) or a rotation quaternion (4) based on its length.\n",
    "        If rot_angle is given, assumes rot to be an euler angle (does not necessarily\n",
    "        needs to be a unit vector).\n",
    "    \"\"\"\n",
    "    if (rot.ndim == 1 and rot.shape[0] == 4) or (rot.ndim == 2 and rot.shape[1] == 4):\n",
    "        rot_quat = rot\n",
    "    else:\n",
    "        if rot_angle is None:\n",
    "            rot_quat = rot_quat_from_rot_vec(rot)\n",
    "        else:\n",
    "            rot_quat = rot_quat_from_axis_and_angle(rot, rot_angle)\n",
    "    point = point_as_quat(p)\n",
    "    rot_point = conjugate_p_by_q(p=point, q=rot_quat)\n",
    "    if rot_point.ndim == 2:\n",
    "        return rot_point[:, 1:]\n",
    "    else:\n",
    "        return rot_point[1:]"
   ]
  },
  {
   "cell_type": "code",
   "execution_count": 306,
   "id": "04a8198c-3724-4b7c-96f5-471bd70fbc09",
   "metadata": {},
   "outputs": [
    {
     "name": "stdout",
     "output_type": "stream",
     "text": [
      "[ 0.00000000e+00 -2.22044605e-16  0.00000000e+00  1.00000000e+00]\n"
     ]
    },
    {
     "data": {
      "text/plain": [
       "array([-2.22044605e-16,  0.00000000e+00,  1.00000000e+00])"
      ]
     },
     "execution_count": 306,
     "metadata": {},
     "output_type": "execute_result"
    }
   ],
   "source": [
    "point = point_as_quat(np.asarray([1,0,0]))\n",
    "rot = rot_quat_from_axis_and_angle(axis=np.asarray([0,1,0]), angle=np.asarray([(3/2)*np.pi]))\n",
    "print(conjugate_p_by_q(p=point, q=rot))\n",
    "rotate_point_using_quat(p=np.asarray([1,0,0]), rot=np.asarray([0,1,0]), rot_angle=np.asarray([(3/2)*np.pi]))\n",
    "# should be [0,0,0,1]"
   ]
  },
  {
   "cell_type": "code",
   "execution_count": null,
   "id": "46dd7173-fbf6-48e2-8258-d551ed43c18a",
   "metadata": {},
   "outputs": [],
   "source": []
  }
 ],
 "metadata": {
  "kernelspec": {
   "display_name": "Python 3 (ipykernel)",
   "language": "python",
   "name": "python3"
  },
  "language_info": {
   "codemirror_mode": {
    "name": "ipython",
    "version": 3
   },
   "file_extension": ".py",
   "mimetype": "text/x-python",
   "name": "python",
   "nbconvert_exporter": "python",
   "pygments_lexer": "ipython3",
   "version": "3.9.18"
  }
 },
 "nbformat": 4,
 "nbformat_minor": 5
}
