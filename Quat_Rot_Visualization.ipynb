{
 "cells": [
  {
   "cell_type": "code",
   "execution_count": 1,
   "id": "3ee463b3-479b-477e-887c-55029c31772c",
   "metadata": {},
   "outputs": [],
   "source": [
    "import matplotlib.pyplot as plt\n",
    "import numpy as np\n",
    "from quat import Quat\n",
    "\n",
    "rng = np.random.default_rng()"
   ]
  },
  {
   "cell_type": "code",
   "execution_count": 11,
   "id": "bb3ca6de-14de-4a8c-aa4d-acdb57e2276a",
   "metadata": {},
   "outputs": [],
   "source": [
    "def random_rotation_quat(num_samples=1):\n",
    "    a = rng.standard_normal(num_samples*4).reshape(-1, 4)\n",
    "    return Quat.normalize(a)"
   ]
  },
  {
   "cell_type": "code",
   "execution_count": 23,
   "id": "26831b18-1f02-4136-ba85-9fd4d5726a21",
   "metadata": {},
   "outputs": [],
   "source": [
    "def plot_scatter(points, kwarg_list):\n",
    "    fig = plt.figure()\n",
    "    ax = fig.add_subplot(projection=\"3d\", computed_zorder=False)\n",
    "    for p, kwargs in zip(points, kwarg_list):\n",
    "        ax.scatter(*np.asarray(p).T, marker=\".\", **kwargs)\n",
    "    ax.view_init(elev=45, azim=-45, roll=0)\n",
    "    ax.set(xlim=(-1, 1), ylim=(-1, 1), zlim=(-1,1))\n",
    "    ax.set_aspect(\"equal\", adjustable=\"box\")\n",
    "    plt.show()"
   ]
  },
  {
   "cell_type": "code",
   "execution_count": 25,
   "id": "6110a50f-f89b-48fa-a0db-ecb7b4806800",
   "metadata": {},
   "outputs": [
    {
     "name": "stdout",
     "output_type": "stream",
     "text": [
      "Using matplotlib backend: TkAgg\n"
     ]
    }
   ],
   "source": [
    "%matplotlib\n",
    "x = np.array([1/9, -4/9, 8/9])\n",
    "x /= np.linalg.norm(x)\n",
    "\n",
    "q = random_rotation_quat(num_samples=10000)\n",
    "y = Quat.rotate_point(x, q)\n",
    "y = np.asarray([x.vector() for x in y])\n",
    "plot_scatter(\n",
    "    [y, [x]],\n",
    "    [{\"s\": 1, \"alpha\": 0.5}, {\"s\": 64, \"color\": \"#ff77cc\"}],\n",
    ")\n"
   ]
  },
  {
   "cell_type": "code",
   "execution_count": null,
   "id": "a0d87054-104c-48ca-92d0-f2171476c480",
   "metadata": {},
   "outputs": [],
   "source": []
  }
 ],
 "metadata": {
  "kernelspec": {
   "display_name": "Python 3 (ipykernel)",
   "language": "python",
   "name": "python3"
  },
  "language_info": {
   "codemirror_mode": {
    "name": "ipython",
    "version": 3
   },
   "file_extension": ".py",
   "mimetype": "text/x-python",
   "name": "python",
   "nbconvert_exporter": "python",
   "pygments_lexer": "ipython3",
   "version": "3.9.13"
  }
 },
 "nbformat": 4,
 "nbformat_minor": 5
}
