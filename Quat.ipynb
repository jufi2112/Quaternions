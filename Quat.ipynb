{
 "cells": [
  {
   "cell_type": "code",
   "execution_count": 29,
   "id": "b2f81c69-4408-406d-a708-a769a145e60f",
   "metadata": {},
   "outputs": [
    {
     "name": "stdout",
     "output_type": "stream",
     "text": [
      "The autoreload extension is already loaded. To reload it, use:\n",
      "  %reload_ext autoreload\n"
     ]
    }
   ],
   "source": [
    "import numpy as np\n",
    "from Quat import Quat\n",
    "\n",
    "%load_ext autoreload\n",
    "%autoreload 2"
   ]
  },
  {
   "cell_type": "code",
   "execution_count": 39,
   "id": "2235774c-20d6-495a-ab2e-bfdd3c05a45a",
   "metadata": {},
   "outputs": [],
   "source": [
    "a = Quat(1,2,3,4)\n",
    "b = Quat(4,3,2,1)\n",
    "c = np.asarray([4,3,2,1])"
   ]
  },
  {
   "cell_type": "code",
   "execution_count": 42,
   "id": "3e436bc3-fcbe-4059-93ad-e281a624684b",
   "metadata": {},
   "outputs": [
    {
     "name": "stdout",
     "output_type": "stream",
     "text": [
      "(1, 4)\n"
     ]
    },
    {
     "data": {
      "text/plain": [
       "Quat(5.0, 5.0, 5.0, 5.0)"
      ]
     },
     "execution_count": 42,
     "metadata": {},
     "output_type": "execute_result"
    }
   ],
   "source": [
    "a + b"
   ]
  },
  {
   "cell_type": "code",
   "execution_count": 43,
   "id": "49aea784-7032-4584-845d-4ce1d83eb311",
   "metadata": {},
   "outputs": [
    {
     "name": "stdout",
     "output_type": "stream",
     "text": [
      "(1, 4)\n"
     ]
    },
    {
     "data": {
      "text/plain": [
       "Quat(5.0, 5.0, 5.0, 5.0)"
      ]
     },
     "execution_count": 43,
     "metadata": {},
     "output_type": "execute_result"
    }
   ],
   "source": [
    "b + a"
   ]
  },
  {
   "cell_type": "code",
   "execution_count": 46,
   "id": "dcbd2681-58f7-4662-aeea-1897f7ef8419",
   "metadata": {},
   "outputs": [
    {
     "ename": "TypeError",
     "evalue": "unsupported operand type(s) for -: 'Quat' and 'int'",
     "output_type": "error",
     "traceback": [
      "\u001b[1;31m---------------------------------------------------------------------------\u001b[0m",
      "\u001b[1;31mTypeError\u001b[0m                                 Traceback (most recent call last)",
      "Cell \u001b[1;32mIn[46], line 1\u001b[0m\n\u001b[1;32m----> 1\u001b[0m \u001b[43ma\u001b[49m\u001b[43m \u001b[49m\u001b[38;5;241;43m-\u001b[39;49m\u001b[43m \u001b[49m\u001b[43mc\u001b[49m\n",
      "\u001b[1;31mTypeError\u001b[0m: unsupported operand type(s) for -: 'Quat' and 'int'"
     ]
    }
   ],
   "source": [
    "a - c"
   ]
  },
  {
   "cell_type": "code",
   "execution_count": 6,
   "id": "67799f52-e496-49a2-aaf8-fa7330c68178",
   "metadata": {},
   "outputs": [
    {
     "name": "stdout",
     "output_type": "stream",
     "text": [
      "Called member function normalize\n"
     ]
    },
    {
     "data": {
      "text/plain": [
       "Quat(0.18257418583505536, 0.3651483716701107, 0.5477225575051661, 0.7302967433402214)"
      ]
     },
     "execution_count": 6,
     "metadata": {},
     "output_type": "execute_result"
    }
   ],
   "source": [
    "a.normalize()"
   ]
  },
  {
   "cell_type": "code",
   "execution_count": 8,
   "id": "ae2fe2f9-eb35-405c-b316-ee24c1e054da",
   "metadata": {},
   "outputs": [
    {
     "data": {
      "text/plain": [
       "Quat(1.0, 2.0, 3.0, 4.0)"
      ]
     },
     "execution_count": 8,
     "metadata": {},
     "output_type": "execute_result"
    }
   ],
   "source": [
    "a"
   ]
  },
  {
   "cell_type": "code",
   "execution_count": 9,
   "id": "ee6f0345-5d88-4ff2-bad8-46ce315ccff7",
   "metadata": {},
   "outputs": [],
   "source": [
    "a.normalize_()"
   ]
  },
  {
   "cell_type": "code",
   "execution_count": 10,
   "id": "852859c8-44e5-4ee6-b577-e65bf95e05a8",
   "metadata": {},
   "outputs": [
    {
     "data": {
      "text/plain": [
       "Quat(0.18257418583505536, 0.3651483716701107, 0.5477225575051661, 0.7302967433402214)"
      ]
     },
     "execution_count": 10,
     "metadata": {},
     "output_type": "execute_result"
    }
   ],
   "source": [
    "a"
   ]
  },
  {
   "cell_type": "code",
   "execution_count": null,
   "id": "8b66bd7f-5d22-4071-93ba-1ae22c4ccb4e",
   "metadata": {},
   "outputs": [],
   "source": []
  }
 ],
 "metadata": {
  "kernelspec": {
   "display_name": "Python 3 (ipykernel)",
   "language": "python",
   "name": "python3"
  },
  "language_info": {
   "codemirror_mode": {
    "name": "ipython",
    "version": 3
   },
   "file_extension": ".py",
   "mimetype": "text/x-python",
   "name": "python",
   "nbconvert_exporter": "python",
   "pygments_lexer": "ipython3",
   "version": "3.9.18"
  }
 },
 "nbformat": 4,
 "nbformat_minor": 5
}
